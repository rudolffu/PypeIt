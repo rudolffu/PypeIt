{
 "cells": [
  {
   "cell_type": "markdown",
   "id": "910af785-9737-49cf-ba06-70bc1abaac95",
   "metadata": {},
   "source": [
    "# Gemini Mask Ingestion"
   ]
  },
  {
   "cell_type": "code",
   "execution_count": 4,
   "id": "501b381f-1e76-4345-8ab5-7fb0f89417b3",
   "metadata": {},
   "outputs": [],
   "source": [
    "# imports\n",
    "from astropy.io import fits\n",
    "from astropy.table import Table"
   ]
  },
  {
   "cell_type": "code",
   "execution_count": 2,
   "id": "d03f5db7-a045-4bbb-bb84-96033e677a96",
   "metadata": {},
   "outputs": [],
   "source": [
    "# Example\n",
    "mask_file = '/home/xavier/Projects/PypeIt-codes/Redux/Gemini/GMOS/Mask_Ingestion/Raw/GS2022BQ137-05_ODF.fits'"
   ]
  },
  {
   "cell_type": "markdown",
   "id": "a66c6c14-f1d0-481e-8be5-e4914feb6b1b",
   "metadata": {},
   "source": [
    "# Load"
   ]
  },
  {
   "cell_type": "code",
   "execution_count": 3,
   "id": "655ca2c4-c9bc-4f81-b9ed-c4af352612c2",
   "metadata": {},
   "outputs": [
    {
     "name": "stdout",
     "output_type": "stream",
     "text": [
      "Filename: /home/xavier/Projects/PypeIt-codes/Redux/Gemini/GMOS/Mask_Ingestion/Raw/GS2022BQ137-05_ODF.fits\n",
      "No.    Name      Ver    Type      Cards   Dimensions   Format\n",
      "  0  PRIMARY       1 PrimaryHDU       6   ()      \n",
      "  1  MINIMAL.TAB    1 BinTableHDU     89   39R x 18C   [1J, 1E, 1E, 1E, 1E, 1E, 1E, 1E, 1E, 1E, 1E, 1A, 1A, 1E, 1E, 1E, 1E, 1E]   \n"
     ]
    }
   ],
   "source": [
    "hdul = fits.open(mask_file)\n",
    "hdul.info()"
   ]
  },
  {
   "cell_type": "markdown",
   "id": "41cc5b69-f876-408a-b9c0-da16094774bc",
   "metadata": {},
   "source": [
    "## Table"
   ]
  },
  {
   "cell_type": "code",
   "execution_count": 5,
   "id": "1079a99c-a17f-42f1-9fb4-852b258cb9a1",
   "metadata": {},
   "outputs": [
    {
     "data": {
      "text/html": [
       "<div><i>Table length=39</i>\n",
       "<table id=\"table140485787297968\" class=\"table-striped table-bordered table-condensed\">\n",
       "<thead><tr><th>ID</th><th>RA</th><th>DEC</th><th>x_ccd</th><th>y_ccd</th><th>slitpos_x</th><th>slitpos_y</th><th>slitsize_x</th><th>slitsize_y</th><th>slittilt</th><th>MAG</th><th>priority</th><th>slittype</th><th>redshift</th><th>specleft</th><th>specright</th><th>specbottom</th><th>spectop</th></tr></thead>\n",
       "<thead><tr><th>#</th><th>H</th><th>deg</th><th>pixels</th><th>pixels</th><th>arcsec</th><th>arcsec</th><th>arcsec</th><th>arcsec</th><th>deg</th><th>#</th><th>c</th><th>c</th><th>z</th><th>pixels</th><th>pixels</th><th>pixels</th><th>pixels</th></tr></thead>\n",
       "<thead><tr><th>int32</th><th>float32</th><th>float32</th><th>float32</th><th>float32</th><th>float32</th><th>float32</th><th>float32</th><th>float32</th><th>float32</th><th>float32</th><th>bytes1</th><th>bytes1</th><th>float32</th><th>float32</th><th>float32</th><th>float32</th><th>float32</th></tr></thead>\n",
       "<tr><td>10002</td><td>21.964296</td><td>-80.35233</td><td>1732.81</td><td>1171.24</td><td>0.0</td><td>-0.159871</td><td>1.0</td><td>10.115869</td><td>0.0</td><td>22.231</td><td>1</td><td>R</td><td>0.0</td><td>-1.518716</td><td>3133.5188</td><td>1155.6023</td><td>1186.8777</td></tr>\n",
       "<tr><td>10003</td><td>21.962847</td><td>-80.3494</td><td>1650.85</td><td>1236.84</td><td>0.0</td><td>-0.559547</td><td>1.0</td><td>8.677034</td><td>0.0</td><td>22.4219</td><td>1</td><td>R</td><td>0.0</td><td>-1.518716</td><td>3133.5188</td><td>1221.2023</td><td>1252.4777</td></tr>\n",
       "<tr><td>10008</td><td>21.955519</td><td>-80.35938</td><td>1237.64</td><td>1011.42</td><td>0.0</td><td>1.278964</td><td>1.0</td><td>11.075072</td><td>0.0</td><td>22.258</td><td>1</td><td>R</td><td>0.0</td><td>-1.518716</td><td>3133.5188</td><td>995.78235</td><td>1027.0576</td></tr>\n",
       "<tr><td>10010</td><td>21.965385</td><td>-80.34714</td><td>1794.17</td><td>1288.07</td><td>0.0</td><td>-0.479612</td><td>1.0</td><td>6.278976</td><td>0.0</td><td>21.3201</td><td>1</td><td>R</td><td>0.0</td><td>-1.518716</td><td>3133.5188</td><td>1272.4323</td><td>1303.7076</td></tr>\n",
       "<tr><td>10012</td><td>21.955742</td><td>-80.36635</td><td>1250.81</td><td>854.725</td><td>0.0</td><td>0.479612</td><td>1.0</td><td>8.197403</td><td>0.0</td><td>22.4274</td><td>1</td><td>R</td><td>0.0</td><td>-1.518716</td><td>3133.5188</td><td>839.08734</td><td>870.3626</td></tr>\n",
       "<tr><td>10013</td><td>21.958809</td><td>-80.37318</td><td>1424.3</td><td>701.77</td><td>0.0</td><td>0.0</td><td>1.0</td><td>4.999993</td><td>0.0</td><td>22.022</td><td>1</td><td>R</td><td>0.0</td><td>-1.518716</td><td>3133.5188</td><td>686.1324</td><td>717.40765</td></tr>\n",
       "<tr><td>10017</td><td>21.954351</td><td>-80.36852</td><td>1172.57</td><td>805.587</td><td>0.0</td><td>-0.799353</td><td>1.0</td><td>8.517144</td><td>0.0</td><td>21.2705</td><td>1</td><td>R</td><td>0.0</td><td>-1.518716</td><td>3133.5188</td><td>789.94934</td><td>821.2246</td></tr>\n",
       "<tr><td>10020</td><td>21.960806</td><td>-80.38074</td><td>1537.36</td><td>532.225</td><td>0.0</td><td>0.319741</td><td>1.0</td><td>6.278957</td><td>0.0</td><td>21.3265</td><td>1</td><td>R</td><td>0.0</td><td>-1.518716</td><td>3133.5188</td><td>516.58734</td><td>547.8626</td></tr>\n",
       "<tr><td>10023</td><td>21.968401</td><td>-80.37479</td><td>1965.21</td><td>666.44</td><td>0.0</td><td>-0.479612</td><td>1.0</td><td>5.959216</td><td>0.0</td><td>21.2274</td><td>1</td><td>R</td><td>0.0</td><td>-1.518716</td><td>3133.5188</td><td>650.80237</td><td>682.07764</td></tr>\n",
       "<tr><td>...</td><td>...</td><td>...</td><td>...</td><td>...</td><td>...</td><td>...</td><td>...</td><td>...</td><td>...</td><td>...</td><td>...</td><td>...</td><td>...</td><td>...</td><td>...</td><td>...</td><td>...</td></tr>\n",
       "<tr><td>10077</td><td>21.945513</td><td>-80.34273</td><td>668.952</td><td>1383.11</td><td>0.0</td><td>-0.879288</td><td>1.0</td><td>6.758588</td><td>0.0</td><td>22.0562</td><td>1</td><td>R</td><td>0.0</td><td>-1.518716</td><td>2970.464</td><td>1367.4723</td><td>1398.7477</td></tr>\n",
       "<tr><td>10078</td><td>21.944231</td><td>-80.36175</td><td>599.362</td><td>954.368</td><td>0.0</td><td>0.719417</td><td>1.0</td><td>6.758569</td><td>0.0</td><td>22.1179</td><td>1</td><td>R</td><td>0.0</td><td>-1.518716</td><td>2907.7034</td><td>938.73035</td><td>970.0056</td></tr>\n",
       "<tr><td>10080</td><td>21.945591</td><td>-80.3391</td><td>672.758</td><td>1464.79</td><td>0.0</td><td>0.639482</td><td>1.0</td><td>7.877682</td><td>0.0</td><td>22.39</td><td>1</td><td>R</td><td>0.0</td><td>-1.518716</td><td>2973.3816</td><td>1449.1523</td><td>1480.4277</td></tr>\n",
       "<tr><td>10089</td><td>21.969564</td><td>-80.3995</td><td>2031.8</td><td>109.698</td><td>0.0</td><td>-2.398057</td><td>1.0</td><td>14.272491</td><td>0.0</td><td>22.4554</td><td>1</td><td>R</td><td>0.0</td><td>-1.518716</td><td>3133.5188</td><td>94.06034</td><td>125.335655</td></tr>\n",
       "<tr><td>10102</td><td>21.975288</td><td>-80.39236</td><td>2354.54</td><td>270.116</td><td>0.0</td><td>0.559547</td><td>1.0</td><td>6.119094</td><td>0.0</td><td>22.3767</td><td>1</td><td>R</td><td>0.0</td><td>-1.518716</td><td>3133.5188</td><td>254.47835</td><td>285.75366</td></tr>\n",
       "<tr><td>10106</td><td>21.977022</td><td>-80.32865</td><td>2454.45</td><td>1704.92</td><td>0.0</td><td>0.479612</td><td>1.0</td><td>6.598718</td><td>0.0</td><td>22.3125</td><td>1</td><td>R</td><td>0.0</td><td>-1.518716</td><td>3133.5188</td><td>1689.2823</td><td>1720.5577</td></tr>\n",
       "<tr><td>10126</td><td>21.949339</td><td>-80.31252</td><td>880.946</td><td>2065.5</td><td>0.0</td><td>-1.598705</td><td>1.0</td><td>8.517163</td><td>0.0</td><td>20.0725</td><td>2</td><td>R</td><td>0.0</td><td>-1.518716</td><td>3133.5188</td><td>2049.8623</td><td>2081.1377</td></tr>\n",
       "<tr><td>20002</td><td>21.965395</td><td>-80.33239</td><td>1794.4</td><td>1619.89</td><td>0.0</td><td>0.0</td><td>2.0</td><td>1.999982</td><td>0.0</td><td>15.875</td><td>0</td><td>R</td><td>0.0</td><td>-1.518716</td><td>3133.5188</td><td>1613.635</td><td>1626.145</td></tr>\n",
       "<tr><td>20005</td><td>21.96253</td><td>-80.31846</td><td>1631.56</td><td>1933.53</td><td>0.0</td><td>0.0</td><td>2.0</td><td>1.999982</td><td>0.0</td><td>15.9739</td><td>0</td><td>R</td><td>0.0</td><td>-1.518716</td><td>3133.5188</td><td>1927.275</td><td>1939.785</td></tr>\n",
       "<tr><td>20006</td><td>21.97539</td><td>-80.38594</td><td>2360.04</td><td>414.888</td><td>0.0</td><td>0.0</td><td>2.0</td><td>2.000001</td><td>0.0</td><td>16.8487</td><td>0</td><td>R</td><td>0.0</td><td>-1.518716</td><td>3133.5188</td><td>408.63293</td><td>421.14307</td></tr>\n",
       "</table></div>"
      ],
      "text/plain": [
       "<Table length=39>\n",
       "  ID      RA       DEC     x_ccd  ... specright specbottom  spectop  \n",
       "  #       H        deg     pixels ...   pixels    pixels     pixels  \n",
       "int32  float32   float32  float32 ...  float32   float32    float32  \n",
       "----- --------- --------- ------- ... --------- ---------- ----------\n",
       "10002 21.964296 -80.35233 1732.81 ... 3133.5188  1155.6023  1186.8777\n",
       "10003 21.962847  -80.3494 1650.85 ... 3133.5188  1221.2023  1252.4777\n",
       "10008 21.955519 -80.35938 1237.64 ... 3133.5188  995.78235  1027.0576\n",
       "10010 21.965385 -80.34714 1794.17 ... 3133.5188  1272.4323  1303.7076\n",
       "10012 21.955742 -80.36635 1250.81 ... 3133.5188  839.08734   870.3626\n",
       "10013 21.958809 -80.37318  1424.3 ... 3133.5188   686.1324  717.40765\n",
       "10017 21.954351 -80.36852 1172.57 ... 3133.5188  789.94934   821.2246\n",
       "10020 21.960806 -80.38074 1537.36 ... 3133.5188  516.58734   547.8626\n",
       "10023 21.968401 -80.37479 1965.21 ... 3133.5188  650.80237  682.07764\n",
       "  ...       ...       ...     ... ...       ...        ...        ...\n",
       "10077 21.945513 -80.34273 668.952 ...  2970.464  1367.4723  1398.7477\n",
       "10078 21.944231 -80.36175 599.362 ... 2907.7034  938.73035   970.0056\n",
       "10080 21.945591  -80.3391 672.758 ... 2973.3816  1449.1523  1480.4277\n",
       "10089 21.969564  -80.3995  2031.8 ... 3133.5188   94.06034 125.335655\n",
       "10102 21.975288 -80.39236 2354.54 ... 3133.5188  254.47835  285.75366\n",
       "10106 21.977022 -80.32865 2454.45 ... 3133.5188  1689.2823  1720.5577\n",
       "10126 21.949339 -80.31252 880.946 ... 3133.5188  2049.8623  2081.1377\n",
       "20002 21.965395 -80.33239  1794.4 ... 3133.5188   1613.635   1626.145\n",
       "20005  21.96253 -80.31846 1631.56 ... 3133.5188   1927.275   1939.785\n",
       "20006  21.97539 -80.38594 2360.04 ... 3133.5188  408.63293  421.14307"
      ]
     },
     "execution_count": 5,
     "metadata": {},
     "output_type": "execute_result"
    }
   ],
   "source": [
    "tbl = Table.read(mask_file)\n",
    "tbl"
   ]
  },
  {
   "cell_type": "code",
   "execution_count": null,
   "id": "ac3845dd-0839-409c-b230-38a8daf09fce",
   "metadata": {},
   "outputs": [],
   "source": []
  }
 ],
 "metadata": {
  "kernelspec": {
   "display_name": "Python 3 (ipykernel)",
   "language": "python",
   "name": "python3"
  },
  "language_info": {
   "codemirror_mode": {
    "name": "ipython",
    "version": 3
   },
   "file_extension": ".py",
   "mimetype": "text/x-python",
   "name": "python",
   "nbconvert_exporter": "python",
   "pygments_lexer": "ipython3",
   "version": "3.9.7"
  }
 },
 "nbformat": 4,
 "nbformat_minor": 5
}
